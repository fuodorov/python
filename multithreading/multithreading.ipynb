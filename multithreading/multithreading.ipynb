{
 "cells": [
  {
   "cell_type": "markdown",
   "metadata": {},
   "source": [
    "# Multithreading and GIL\n",
    "[Vyacheslav Fedorov](https://fuodorov.github.io)"
   ]
  },
  {
   "cell_type": "markdown",
   "metadata": {},
   "source": [
    "## || minimum"
   ]
  },
  {
   "cell_type": "markdown",
   "metadata": {},
   "source": [
    "### Process"
   ]
  },
  {
   "cell_type": "markdown",
   "metadata": {},
   "source": [
    "* Process - running program.\n",
    "* Each process has a state isolated from other processes:\n",
    "* * virtual address space,\n",
    "* * pointer to executable instruction,\n",
    "* * call stack,\n",
    "* * system resources, such as open file\n",
    "  descriptors.\n",
    "* Processes are convenient for simultaneously performing multiple tasks.\n",
    "* Alternative way: delegate each task to a thread."
   ]
  },
  {
   "cell_type": "markdown",
   "metadata": {},
   "source": [
    "### Thread"
   ]
  },
  {
   "cell_type": "markdown",
   "metadata": {},
   "source": [
    "* A thread is similar to a process in that its execution occurs independently of other threads (and processes).\n",
    "* Unlike a process, a thread executes within a process and shares the address space and system resources with it.\n",
    "* Threads are convenient for simultaneously performing several tasks that require access to a shared state.\n",
    "* The joint execution of several processes and threads is controlled by the operating system, sequentially allowing each process or thread to use some processor cycles."
   ]
  },
  {
   "cell_type": "markdown",
   "metadata": {},
   "source": [
    "## `threading` module"
   ]
  },
  {
   "cell_type": "markdown",
   "metadata": {},
   "source": [
    "* A thread in Python is a system thread, that is, it is not the interpreter that controls its execution, but the operating system.\n",
    "* You can create a thread using the `Thread` class from the module of the standard `threading` library."
   ]
  },
  {
   "cell_type": "code",
   "execution_count": 1,
   "metadata": {},
   "outputs": [],
   "source": [
    "import time\n",
    "from threading import Thread\n",
    "\n",
    "def countdown(n):\n",
    "    for i in range(n):\n",
    "        print(n - i - 1, \"left\")\n",
    "        time.sleep(1)"
   ]
  },
  {
   "cell_type": "code",
   "execution_count": 2,
   "metadata": {},
   "outputs": [],
   "source": [
    "t = Thread(target=countdown, args=(3,))"
   ]
  },
  {
   "cell_type": "code",
   "execution_count": 3,
   "metadata": {},
   "outputs": [
    {
     "name": "stdout",
     "output_type": "stream",
     "text": [
      "2 left\n"
     ]
    }
   ],
   "source": [
    "t.start()"
   ]
  },
  {
   "cell_type": "markdown",
   "metadata": {},
   "source": [
    "An alternative way to create a stream is inheritance:"
   ]
  },
  {
   "cell_type": "code",
   "execution_count": 4,
   "metadata": {},
   "outputs": [],
   "source": [
    "class CountdownThread(Thread):\n",
    "    def __init__(self, n):\n",
    "        super().__init__()\n",
    "        self.n = n\n",
    "        \n",
    "    def run(self): # start method.\n",
    "        for i in range(self.n):\n",
    "            print(self.n - i - 1, \"left\")\n",
    "            time.sleep(1)"
   ]
  },
  {
   "cell_type": "code",
   "execution_count": 5,
   "metadata": {},
   "outputs": [],
   "source": [
    "t = CountdownThread(3)"
   ]
  },
  {
   "cell_type": "code",
   "execution_count": 6,
   "metadata": {},
   "outputs": [
    {
     "name": "stdout",
     "output_type": "stream",
     "text": [
      "2 left\n"
     ]
    }
   ],
   "source": [
    "t.start()"
   ]
  },
  {
   "cell_type": "markdown",
   "metadata": {},
   "source": [
    "The disadvantage of this approach is that it limits the reuse of code: the functionality of the `CountdownThread` class can be used only in a separate thread."
   ]
  },
  {
   "cell_type": "markdown",
   "metadata": {},
   "source": [
    "* When creating a stream, you can specify a name. By default it is **'Thread-N'**:"
   ]
  },
  {
   "cell_type": "code",
   "execution_count": 7,
   "metadata": {},
   "outputs": [
    {
     "data": {
      "text/plain": [
       "'Thread-6'"
      ]
     },
     "execution_count": 7,
     "metadata": {},
     "output_type": "execute_result"
    }
   ],
   "source": [
    "Thread().name"
   ]
  },
  {
   "cell_type": "code",
   "execution_count": 8,
   "metadata": {},
   "outputs": [
    {
     "data": {
      "text/plain": [
       "'NumberCruncher'"
      ]
     },
     "execution_count": 8,
     "metadata": {},
     "output_type": "execute_result"
    }
   ],
   "source": [
    "Thread(name=\"NumberCruncher\").name"
   ]
  },
  {
   "cell_type": "markdown",
   "metadata": {},
   "source": [
    "* Each active thread has an id - a non-negative number unique to all active threads."
   ]
  },
  {
   "cell_type": "code",
   "execution_count": 9,
   "metadata": {},
   "outputs": [
    {
     "data": {
      "text/plain": [
       "123145519448064"
      ]
     },
     "execution_count": 9,
     "metadata": {},
     "output_type": "execute_result"
    }
   ],
   "source": [
    "t = Thread()\n",
    "t.start()\n",
    "t.ident"
   ]
  },
  {
   "cell_type": "markdown",
   "metadata": {},
   "source": [
    "* The `join` method allows you to wait until the stream finishes.\n",
    "* * The execution of the calling thread will pause until thread t ends.\n",
    "* * Repeated calls to the `join` method have no effect."
   ]
  },
  {
   "cell_type": "code",
   "execution_count": 10,
   "metadata": {},
   "outputs": [
    {
     "name": "stdout",
     "output_type": "stream",
     "text": [
      "1 left\n",
      "1 left\n",
      "0 left\n",
      "0 left\n"
     ]
    }
   ],
   "source": [
    "t = Thread(target=time.sleep, args=(5, )) \n",
    "t.start()\n",
    "t.join() # locks for 5 seconds\n",
    "t.join() # performed instantly"
   ]
  },
  {
   "cell_type": "markdown",
   "metadata": {},
   "source": [
    "* You can check if the thread is running using the `is_alive` method:"
   ]
  },
  {
   "cell_type": "code",
   "execution_count": 11,
   "metadata": {},
   "outputs": [],
   "source": [
    "t = Thread(target=time.sleep, args=(5, )) \n",
    "t.start()"
   ]
  },
  {
   "cell_type": "code",
   "execution_count": 12,
   "metadata": {},
   "outputs": [
    {
     "data": {
      "text/plain": [
       "True"
      ]
     },
     "execution_count": 12,
     "metadata": {},
     "output_type": "execute_result"
    }
   ],
   "source": [
    "t.is_alive() # False after 5 seconds"
   ]
  },
  {
   "cell_type": "markdown",
   "metadata": {},
   "source": [
    "* A daemon is a thread created with the `daemon=True` argument:"
   ]
  },
  {
   "cell_type": "markdown",
   "metadata": {},
   "source": [
    "* The difference between a daemon thread and a regular thread is that daemon threads are **automatically** destroyed when exiting the interpreter."
   ]
  },
  {
   "cell_type": "code",
   "execution_count": 13,
   "metadata": {},
   "outputs": [],
   "source": [
    "t = Thread(target=time.sleep, args=(5,), daemon=True)\n",
    "t.start()"
   ]
  },
  {
   "cell_type": "code",
   "execution_count": 14,
   "metadata": {},
   "outputs": [
    {
     "data": {
      "text/plain": [
       "True"
      ]
     },
     "execution_count": 14,
     "metadata": {},
     "output_type": "execute_result"
    }
   ],
   "source": [
    "t.daemon"
   ]
  },
  {
   "cell_type": "markdown",
   "metadata": {},
   "source": [
    "* In Python, there is no built-in mechanism for terminating threads - this is not an accident, but an informed decision of the language developers.\n",
    "* Correct termination of the flow is often associated with the release of resources, for example:\n",
    "* * a stream can work with a file whose descriptor needs to be closed,\n",
    "* * or capture a synchronization primitive.\n",
    "* To end a stream, a flag is usually used:"
   ]
  },
  {
   "cell_type": "code",
   "execution_count": 15,
   "metadata": {},
   "outputs": [],
   "source": [
    "class Task:\n",
    "    def __init__(self):\n",
    "        self._running = True\n",
    "    \n",
    "    def terminate(self):\n",
    "        self._running = False\n",
    "    \n",
    "    def run(self, n):\n",
    "        while self._running:\n",
    "            ..."
   ]
  },
  {
   "cell_type": "markdown",
   "metadata": {},
   "source": [
    "The set of synchronization primitives in the threading module is standard:\n",
    "* `Lock` - a regular mutex, used to provide exclusive access to a shared state.\n",
    "* `RLock` - a recursive mutex that allows a thread that owns a mutex to capture the mutex more than once.\n",
    "* `Semaphore` - a variation of the mutex that allows you to capture yourself no more than a fixed number of times.\n",
    "* `BoundedSemaphore` - a semaphore that makes sure that it is captured and released the same number of times."
   ]
  },
  {
   "cell_type": "markdown",
   "metadata": {},
   "source": [
    "All synchronization primitives implement a single interface:\n",
    "* the acquire method captures the synchronization primitive,\n",
    "* and the release method releases it."
   ]
  },
  {
   "cell_type": "code",
   "execution_count": 16,
   "metadata": {},
   "outputs": [],
   "source": [
    "class SharedCounter:\n",
    "    def __init__(self, value):\n",
    "        self._value = value\n",
    "        self._lock = Lock()\n",
    "    \n",
    "    def increment(self, delta=1):\n",
    "        self._lock.acquire()\n",
    "        self._value += delta\n",
    "        self._lock.release()\n",
    "    \n",
    "    def get(self):\n",
    "        return self._value"
   ]
  },
  {
   "cell_type": "markdown",
   "metadata": {},
   "source": [
    "## `queue` module"
   ]
  },
  {
   "cell_type": "markdown",
   "metadata": {},
   "source": [
    "The `queue` module implements several thread-safe queues:\n",
    "* `Queue` - FIFO queue,\n",
    "* `LifoQueue` — LIFO queue of stacks,\n",
    "* `PriorityQueue` — a queue of elements — a parse\n",
    "(priority, item).\n",
    "* There are no special frills in the implementation of queues: all state-changing methods work “inside” the mutex.\n",
    "* The `Queue` class uses `deque` as the container, and the `LifoQueue` and `PriorityQueue` classes use the list."
   ]
  },
  {
   "cell_type": "code",
   "execution_count": 17,
   "metadata": {},
   "outputs": [],
   "source": [
    "def worker(q):\n",
    "    while True:\n",
    "        item = q.get() # blocking expects next\n",
    "        do_something(item) # element\n",
    "        q.task_done() # notifies the execution queue\n",
    "        \n",
    "def master(q):\n",
    "    for item in source():\n",
    "        q.put(item)\n",
    "        \n",
    "        # blocking waits until all elements of the queue\n",
    "        # will not be processed\n",
    "        q.join()"
   ]
  },
  {
   "cell_type": "markdown",
   "metadata": {},
   "source": [
    "## `futures` module"
   ]
  },
  {
   "cell_type": "markdown",
   "metadata": {},
   "source": [
    "* The `concurrent.futures` module contains the abstract class `Executor` and its implementation as a thread pool - `ThreadPoolExecutor`.\n",
    "* The executor’s interface consists of only three methods:"
   ]
  },
  {
   "cell_type": "code",
   "execution_count": 34,
   "metadata": {},
   "outputs": [],
   "source": [
    "from concurrent.futures import *"
   ]
  },
  {
   "cell_type": "code",
   "execution_count": 35,
   "metadata": {},
   "outputs": [],
   "source": [
    "executor = ThreadPoolExecutor(max_workers=4)"
   ]
  },
  {
   "cell_type": "code",
   "execution_count": 36,
   "metadata": {},
   "outputs": [
    {
     "name": "stdout",
     "output_type": "stream",
     "text": [
      "Hello, world!"
     ]
    },
    {
     "data": {
      "text/plain": [
       "<Future at 0x1043b1d90 state=running>"
      ]
     },
     "execution_count": 36,
     "metadata": {},
     "output_type": "execute_result"
    },
    {
     "name": "stdout",
     "output_type": "stream",
     "text": [
      "\n"
     ]
    }
   ],
   "source": [
    "executor.submit(print, \"Hello, world!\")"
   ]
  },
  {
   "cell_type": "code",
   "execution_count": 37,
   "metadata": {},
   "outputs": [
    {
     "name": "stdout",
     "output_type": "stream",
     "text": [
      "Knock?\n",
      "Knock!\n"
     ]
    },
    {
     "data": {
      "text/plain": [
       "[None, None]"
      ]
     },
     "execution_count": 37,
     "metadata": {},
     "output_type": "execute_result"
    }
   ],
   "source": [
    "list(executor.map(print, [\"Knock?\", \"Knock!\"]))"
   ]
  },
  {
   "cell_type": "code",
   "execution_count": 38,
   "metadata": {},
   "outputs": [],
   "source": [
    "executor.shutdown()"
   ]
  },
  {
   "cell_type": "markdown",
   "metadata": {},
   "source": [
    "* Contractors support the context manager protocol:"
   ]
  },
  {
   "cell_type": "code",
   "execution_count": 39,
   "metadata": {},
   "outputs": [],
   "source": [
    "with ThreadPoolExecutor(max_workers=4) as executor:\n",
    "    ..."
   ]
  },
  {
   "cell_type": "markdown",
   "metadata": {},
   "source": [
    "* The `Executor.submit` method returns an instance of the `Future` class that encapsulates asynchronous calculations."
   ]
  },
  {
   "cell_type": "markdown",
   "metadata": {},
   "source": [
    "What can be done with `Future`?"
   ]
  },
  {
   "cell_type": "code",
   "execution_count": 40,
   "metadata": {},
   "outputs": [],
   "source": [
    "with ThreadPoolExecutor(max_workers=4) as executor:\n",
    "    f = executor.submit(sorted, [4, 3, 1, 2])"
   ]
  },
  {
   "cell_type": "markdown",
   "metadata": {},
   "source": [
    "* Ask about the calculation status:"
   ]
  },
  {
   "cell_type": "code",
   "execution_count": 41,
   "metadata": {},
   "outputs": [
    {
     "data": {
      "text/plain": [
       "(False, True, False)"
      ]
     },
     "execution_count": 41,
     "metadata": {},
     "output_type": "execute_result"
    }
   ],
   "source": [
    "f.running(), f.done(), f.cancelled()"
   ]
  },
  {
   "cell_type": "markdown",
   "metadata": {},
   "source": [
    "* Wait for the blocking result of the calculation:"
   ]
  },
  {
   "cell_type": "code",
   "execution_count": 42,
   "metadata": {},
   "outputs": [
    {
     "name": "stdout",
     "output_type": "stream",
     "text": [
      "[1, 2, 3, 4]\n"
     ]
    }
   ],
   "source": [
    "print(f.result())"
   ]
  },
  {
   "cell_type": "code",
   "execution_count": 43,
   "metadata": {},
   "outputs": [
    {
     "name": "stdout",
     "output_type": "stream",
     "text": [
      "None\n"
     ]
    }
   ],
   "source": [
    "print(f.exception())"
   ]
  },
  {
   "cell_type": "markdown",
   "metadata": {},
   "source": [
    "* Add a function that will be called after the calculation is completed:"
   ]
  },
  {
   "cell_type": "code",
   "execution_count": 44,
   "metadata": {},
   "outputs": [
    {
     "name": "stdout",
     "output_type": "stream",
     "text": [
      "<Future at 0x1043b7f10 state=finished returned list>\n"
     ]
    }
   ],
   "source": [
    "f.add_done_callback(print)"
   ]
  },
  {
   "cell_type": "markdown",
   "metadata": {},
   "source": [
    "## `futures` module example: `integrate`"
   ]
  },
  {
   "cell_type": "code",
   "execution_count": 45,
   "metadata": {},
   "outputs": [],
   "source": [
    "import math\n",
    "\n",
    "def integrate(f, a, b, *, n_iter=1000):\n",
    "    acc = 0\n",
    "    step = (b - a) / n_iter\n",
    "    for i in range(n_iter):\n",
    "        acc += f(a + i * step) * step\n",
    "    return acc"
   ]
  },
  {
   "cell_type": "code",
   "execution_count": 46,
   "metadata": {},
   "outputs": [
    {
     "data": {
      "text/plain": [
       "1.0007851925466296"
      ]
     },
     "execution_count": 46,
     "metadata": {},
     "output_type": "execute_result"
    }
   ],
   "source": [
    "integrate(math.cos, 0, math.pi / 2)"
   ]
  },
  {
   "cell_type": "code",
   "execution_count": 47,
   "metadata": {},
   "outputs": [],
   "source": [
    "from functools import partial\n",
    "\n",
    "def integrate_async(f, a, b, *, n_jobs, n_iter=1000):\n",
    "    executor = ThreadPoolExecutor(max_workers=n_jobs)\n",
    "    spawn = partial(executor.submit, integrate, f,\n",
    "                    n_iter=n_iter // n_jobs)\n",
    "    step = (b-a)/n_jobs\n",
    "    fs=[spawn(a+i*step,a+(i+1)*step)\n",
    "        for i in range(n_jobs)]\n",
    "    return sum(f.result() for f in as_completed(fs))"
   ]
  },
  {
   "cell_type": "code",
   "execution_count": 48,
   "metadata": {},
   "outputs": [
    {
     "data": {
      "text/plain": [
       "1.0007851925466305"
      ]
     },
     "execution_count": 48,
     "metadata": {},
     "output_type": "execute_result"
    }
   ],
   "source": [
    "integrate_async(math.cos, 0, math.pi / 2, n_jobs=2)"
   ]
  },
  {
   "cell_type": "markdown",
   "metadata": {},
   "source": [
    "## Concurrency and Competition"
   ]
  },
  {
   "cell_type": "markdown",
   "metadata": {},
   "source": [
    "Compare the performance of the serial and parallel versions of the integrate function using the “magic” `timeit` command:"
   ]
  },
  {
   "cell_type": "code",
   "execution_count": 49,
   "metadata": {},
   "outputs": [
    {
     "name": "stdout",
     "output_type": "stream",
     "text": [
      "154 ms ± 2.28 ms per loop (mean ± std. dev. of 7 runs, 100 loops each)\n"
     ]
    }
   ],
   "source": [
    "%%timeit -n100\n",
    "integrate(math.cos, 0, math.pi / 2, n_iter=10**6)"
   ]
  },
  {
   "cell_type": "code",
   "execution_count": 50,
   "metadata": {},
   "outputs": [
    {
     "name": "stdout",
     "output_type": "stream",
     "text": [
      "142 ms ± 2.11 ms per loop (mean ± std. dev. of 7 runs, 100 loops each)\n"
     ]
    }
   ],
   "source": [
    "%%timeit -n100\n",
    "integrate_async(math.cos, 0, math.pi / 2, n_iter=10**6, n_jobs=2)"
   ]
  },
  {
   "cell_type": "markdown",
   "metadata": {},
   "source": [
    "### GIL"
   ]
  },
  {
   "cell_type": "markdown",
   "metadata": {},
   "source": [
    "* GIL (global interpreter lock) is a mutex that ensures that only one thread at a time has access to the internal state of the interpreter.\n",
    "* The Python C API allows you to release the GIL, but it is only safe when working with objects that are not dependent on the Python interpreter."
   ]
  },
  {
   "cell_type": "markdown",
   "metadata": {},
   "source": [
    "### Is GIL Bad?\n",
    "* The answer depends on the task.\n",
    "* The presence of GIL makes it impossible to use threads in Python for parallelism: several threads do not speed up, and sometimes even slow down the program.\n",
    "* GIL does not interfere with the use of threads for competition when working with I/O."
   ]
  },
  {
   "cell_type": "markdown",
   "metadata": {},
   "source": [
    "### C and Cython - GIL Remedy"
   ]
  },
  {
   "cell_type": "code",
   "execution_count": 60,
   "metadata": {},
   "outputs": [],
   "source": [
    "%load_ext Cython"
   ]
  },
  {
   "cell_type": "code",
   "execution_count": 61,
   "metadata": {},
   "outputs": [],
   "source": [
    "%%cython\n",
    "\n",
    "from libc.math cimport cos\n",
    "\n",
    "def integrate(f, double a, double b, long n_iter):\n",
    "    cdef double acc = 0\n",
    "    cdef double step=(b-a)/n_iter\n",
    "    cdef long i\n",
    "    with nogil:\n",
    "        for i in range(n_iter):\n",
    "            acc += cos(a + i * step) * step\n",
    "    return acc"
   ]
  },
  {
   "cell_type": "code",
   "execution_count": 62,
   "metadata": {},
   "outputs": [
    {
     "name": "stdout",
     "output_type": "stream",
     "text": [
      "5.88 ms ± 126 µs per loop (mean ± std. dev. of 7 runs, 100 loops each)\n"
     ]
    }
   ],
   "source": [
    "%%timeit -n100\n",
    "integrate_async(math.cos, 0, math.pi / 2, n_iter=10**6, n_jobs=2)"
   ]
  },
  {
   "cell_type": "markdown",
   "metadata": {},
   "source": [
    "## `multiprocessing` module\n",
    "### Processes Another GIL Remedy"
   ]
  },
  {
   "cell_type": "markdown",
   "metadata": {},
   "source": [
    "* You can use processes instead of threads.\n",
    "* Each process will have its own GIL, but it will not prevent them from working in parallel.\n",
    "* The `multiprocessing` module is responsible for working with processes in Python:"
   ]
  },
  {
   "cell_type": "code",
   "execution_count": 63,
   "metadata": {},
   "outputs": [],
   "source": [
    "import multiprocessing as mp"
   ]
  },
  {
   "cell_type": "code",
   "execution_count": 64,
   "metadata": {},
   "outputs": [],
   "source": [
    "p = mp.Process(target=countdown, args=(5, ))"
   ]
  },
  {
   "cell_type": "code",
   "execution_count": 65,
   "metadata": {},
   "outputs": [
    {
     "name": "stdout",
     "output_type": "stream",
     "text": [
      "4 left\n",
      "3 left\n",
      "2 left\n",
      "1 left\n",
      "0 left\n"
     ]
    }
   ],
   "source": [
    "p.start()"
   ]
  },
  {
   "cell_type": "markdown",
   "metadata": {},
   "source": [
    "* The module implements basic synchronization primitives: mutexes, semaphores, conditional variables.\n",
    "* To organize the interaction between processes, you can use `Pipe` - a socket-based connection between two processes:"
   ]
  },
  {
   "cell_type": "code",
   "execution_count": 66,
   "metadata": {},
   "outputs": [],
   "source": [
    "def ponger(conn):\n",
    "    conn.send(\"pong\")"
   ]
  },
  {
   "cell_type": "code",
   "execution_count": 67,
   "metadata": {},
   "outputs": [],
   "source": [
    "parent_conn, child_conn = mp.Pipe()\n",
    "p = mp.Process(target=ponger, args=(child_conn, ))"
   ]
  },
  {
   "cell_type": "code",
   "execution_count": 68,
   "metadata": {},
   "outputs": [],
   "source": [
    "p.start()"
   ]
  },
  {
   "cell_type": "code",
   "execution_count": 69,
   "metadata": {},
   "outputs": [
    {
     "data": {
      "text/plain": [
       "'pong'"
      ]
     },
     "execution_count": 69,
     "metadata": {},
     "output_type": "execute_result"
    }
   ],
   "source": [
    "parent_conn.recv()"
   ]
  },
  {
   "cell_type": "code",
   "execution_count": 70,
   "metadata": {},
   "outputs": [],
   "source": [
    "p.join()"
   ]
  },
  {
   "cell_type": "markdown",
   "metadata": {},
   "source": [
    "## Process and performance"
   ]
  },
  {
   "cell_type": "markdown",
   "metadata": {},
   "source": [
    "The implementation of the `integrate_async` function based on the thread pool worked for a long time, let's try to use the process pool:"
   ]
  },
  {
   "cell_type": "code",
   "execution_count": 73,
   "metadata": {},
   "outputs": [],
   "source": [
    "from concurrent.futures import ProcessPoolExecutor"
   ]
  },
  {
   "cell_type": "code",
   "execution_count": 74,
   "metadata": {},
   "outputs": [],
   "source": [
    "def integrate_async(f, a, b, *, n_jobs, n_iter=1000):\n",
    "    executor = ProcessPoolExecutor(max_workers=n_jobs)\n",
    "    spawn = partial(executor.submit, integrate, f,\n",
    "                    n_iter=n_iter // n_jobs)\n",
    "\n",
    "    step = (b - a) / n_jobs\n",
    "    fs=[spawn(a + i * step, a + (i + 1) * step)\n",
    "        for i in range(n_jobs)]\n",
    "    \n",
    "    return sum(f.result() for f in as_completed(fs))"
   ]
  },
  {
   "cell_type": "code",
   "execution_count": 78,
   "metadata": {},
   "outputs": [
    {
     "name": "stdout",
     "output_type": "stream",
     "text": [
      "16.6 ms ± 144 µs per loop (mean ± std. dev. of 7 runs, 100 loops each)\n"
     ]
    }
   ],
   "source": [
    "%%timeit -n100\n",
    "integrate_async(math.cos, 0, math.pi / 2, n_iter=10**6, n_jobs=2)"
   ]
  },
  {
   "cell_type": "markdown",
   "metadata": {},
   "source": [
    "## `joblib` package"
   ]
  },
  {
   "cell_type": "markdown",
   "metadata": {},
   "source": [
    "The `joblib` package implements a parallel analogue of the for loop, which is convenient for parallel execution of independent tasks."
   ]
  },
  {
   "cell_type": "code",
   "execution_count": 86,
   "metadata": {},
   "outputs": [],
   "source": [
    "from joblib import Parallel, delayed\n",
    "\n",
    "def integrate_async(f, a, b, *, n_jobs, n_iter=1000, backend=None):\n",
    "    step = (b - a) / n_jobs\n",
    "    with Parallel(n_jobs=n_jobs, backend=backend) as parallel:\n",
    "        fs = (delayed(integrate)(f, a + i * step,\n",
    "                                 a + (i + 1) * step, \n",
    "                                 n_iter=n_iter // n_jobs)\n",
    "              for i in range(n_jobs))\n",
    "    return sum(parallel(fs))"
   ]
  },
  {
   "cell_type": "code",
   "execution_count": 90,
   "metadata": {},
   "outputs": [
    {
     "name": "stdout",
     "output_type": "stream",
     "text": [
      "104 ms ± 280 µs per loop (mean ± std. dev. of 7 runs, 100 loops each)\n"
     ]
    }
   ],
   "source": [
    "%%timeit -n100\n",
    "integrate_async(math.cos, 0, math.pi / 2, n_iter=10**6, n_jobs=2, backend=\"threading\")"
   ]
  },
  {
   "cell_type": "code",
   "execution_count": 89,
   "metadata": {},
   "outputs": [
    {
     "name": "stdout",
     "output_type": "stream",
     "text": [
      "290 ms ± 1.13 ms per loop (mean ± std. dev. of 7 runs, 100 loops each)\n"
     ]
    }
   ],
   "source": [
    "%%timeit -n100\n",
    "integrate_async(math.cos, 0, math.pi / 2, n_iter=10**6, n_jobs=2, backend=\"multiprocessing\")"
   ]
  },
  {
   "cell_type": "markdown",
   "metadata": {},
   "source": [
    "## Summary"
   ]
  },
  {
   "cell_type": "markdown",
   "metadata": {},
   "source": [
    "* GIL is a global mutex that limits the use of threads for parallelism in programs in Python.\n",
    "* For programs that use mainly I / O, GIL is not scary: in CPython, these operations release the GIL.\n",
    "* For programs that need parallelism, there are options for increasing productivity:\n",
    "* * write critical functionality in C or Cython; \n",
    "* * or use the multiprocessing module."
   ]
  },
  {
   "cell_type": "markdown",
   "metadata": {},
   "source": [
    "Profit."
   ]
  }
 ],
 "metadata": {
  "kernelspec": {
   "display_name": "Python 3",
   "language": "python",
   "name": "python3"
  },
  "language_info": {
   "codemirror_mode": {
    "name": "ipython",
    "version": 3
   },
   "file_extension": ".py",
   "mimetype": "text/x-python",
   "name": "python",
   "nbconvert_exporter": "python",
   "pygments_lexer": "ipython3",
   "version": "3.7.4"
  }
 },
 "nbformat": 4,
 "nbformat_minor": 2
}
