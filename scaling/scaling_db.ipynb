{
 "cells": [
  {
   "cell_type": "markdown",
   "id": "perfect-dodge",
   "metadata": {
    "slideshow": {
     "slide_type": "slide"
    }
   },
   "source": [
    "#### Аттестационный семинар в Сайберс\n",
    " \n",
    "# Масштабирование баз данных\n",
    "\n",
    "\n",
    " \n",
    "###### Подготовил пайтон-разработчик Федоров Вячеслав\n",
    "###### Проверил тимлид Андрей Харченко"
   ]
  },
  {
   "cell_type": "markdown",
   "id": "composite-outline",
   "metadata": {
    "slideshow": {
     "slide_type": "slide"
    }
   },
   "source": [
    "## План семинара\n",
    "\n",
    "1. Требования ACID\n",
    "2. Механизм MVCC\n",
    "3. Теорема CAP\n",
    "4. Репликация/Проблема задержки\n",
    "5. Шардинг/Принципы разбиения данных на шарды\n",
    "6. Партиционирование\n",
    "7. Денормализация"
   ]
  },
  {
   "cell_type": "markdown",
   "id": "veterinary-austin",
   "metadata": {
    "slideshow": {
     "slide_type": "slide"
    }
   },
   "source": [
    "## ACID, CAP, MVCC?"
   ]
  },
  {
   "cell_type": "markdown",
   "id": "further-score",
   "metadata": {
    "slideshow": {
     "slide_type": "slide"
    }
   },
   "source": [
    "## ACID - про транзакционность!"
   ]
  },
  {
   "cell_type": "markdown",
   "id": "streaming-invasion",
   "metadata": {
    "slideshow": {
     "slide_type": "fragment"
    }
   },
   "source": [
    "## Atomicity — Атомарность\n",
    "\n",
    "Если транзакция (А-Б), то либо выполнить А и Б или ничего."
   ]
  },
  {
   "cell_type": "markdown",
   "id": "industrial-picnic",
   "metadata": {
    "slideshow": {
     "slide_type": "fragment"
    }
   },
   "source": [
    "## Consistency — Согласованность\n",
    "\n",
    "Нормально завершенная транзакция сохраняет согласованность базы данных."
   ]
  },
  {
   "cell_type": "markdown",
   "id": "satisfied-cuisine",
   "metadata": {
    "slideshow": {
     "slide_type": "fragment"
    }
   },
   "source": [
    "## Isolation — Изолированность\n",
    "\n",
    "Во время выполнения транзакции параллельные транзакции не должны оказывать влияние на ее результат."
   ]
  },
  {
   "cell_type": "markdown",
   "id": "sitting-marine",
   "metadata": {
    "slideshow": {
     "slide_type": "fragment"
    }
   },
   "source": [
    "## Durability — Надёжность\n",
    "\n",
    "Если пользователь получил подтверждение от системы, что транзакция выполнена, он может быть уверен, что сделанные им изменения не будут отменены из-за какого-либо сбоя."
   ]
  },
  {
   "cell_type": "markdown",
   "id": "recovered-wednesday",
   "metadata": {
    "slideshow": {
     "slide_type": "slide"
    }
   },
   "source": [
    "### MVCC -  Multi Version Concurrency Control\n",
    "\n",
    "Механизм обеспечения одновременного кокурентного доступа к базе данных, заключающийся в предоставлении каждому пользователю \"снимка\" базы данных, обладающего тем свойством, что вносимые изменения в базе данныъ невидимы другим пользователям до момента фиксации транзакции. "
   ]
  },
  {
   "cell_type": "markdown",
   "id": "important-level",
   "metadata": {
    "slideshow": {
     "slide_type": "fragment"
    }
   },
   "source": [
    "Этот способ управления позволяет добиться того, что пишущие транзакции не блокируют читающих, и читающие транзакции не блокируют пишущих."
   ]
  },
  {
   "cell_type": "markdown",
   "id": "affiliated-module",
   "metadata": {
    "slideshow": {
     "slide_type": "slide"
    }
   },
   "source": [
    "## CAP - теорема \n",
    "\n",
    "В любой реализации распределенных вычислений возможно обеспечить не более двух из трех следующих свойств:"
   ]
  },
  {
   "cell_type": "markdown",
   "id": "scheduled-festival",
   "metadata": {
    "slideshow": {
     "slide_type": "fragment"
    }
   },
   "source": [
    "## Consistency - Согласованность\n",
    "\n",
    "Во всех вычислительных узлах в один момент времени данные не противоречат друг другу."
   ]
  },
  {
   "cell_type": "markdown",
   "id": "potential-attendance",
   "metadata": {
    "slideshow": {
     "slide_type": "fragment"
    }
   },
   "source": [
    "## Availability - Доступность\n",
    "\n",
    "Любой запрос к распределнной системе завершается корректным откликом."
   ]
  },
  {
   "cell_type": "markdown",
   "id": "complex-modem",
   "metadata": {
    "slideshow": {
     "slide_type": "fragment"
    }
   },
   "source": [
    "## Partition Tolerance - Устойчивость к разделению\n",
    "\n",
    "Расщепление распределенной системы на несколько изолированных секций не приводит к некорректности отклика от каждой из секций. Иначе говоря - система работает в расчете на случаи произвольной потери пакетов внутри сети."
   ]
  },
  {
   "cell_type": "markdown",
   "id": "material-parameter",
   "metadata": {
    "slideshow": {
     "slide_type": "fragment"
    }
   },
   "source": [
    "### Буква P - всегда с нами!\n",
    "\n",
    "Требование Partition tolerance является данностью для распределенных СУБД."
   ]
  },
  {
   "attachments": {},
   "cell_type": "markdown",
   "id": "surrounded-vegetable",
   "metadata": {
    "slideshow": {
     "slide_type": "subslide"
    }
   },
   "source": [
    "## AP\n",
    "\n",
    "![ap.png](img/ap.png)"
   ]
  },
  {
   "attachments": {},
   "cell_type": "markdown",
   "id": "preliminary-moderator",
   "metadata": {
    "slideshow": {
     "slide_type": "subslide"
    }
   },
   "source": [
    "## CP\n",
    "\n",
    "![cp.png](img/cp.png)"
   ]
  },
  {
   "cell_type": "markdown",
   "id": "serious-oklahoma",
   "metadata": {
    "slideshow": {
     "slide_type": "slide"
    }
   },
   "source": [
    "## Репликация"
   ]
  },
  {
   "cell_type": "markdown",
   "id": "confident-governor",
   "metadata": {
    "slideshow": {
     "slide_type": "fragment"
    }
   },
   "source": [
    "![replication.png](img/replication.png)"
   ]
  },
  {
   "cell_type": "markdown",
   "id": "round-calculator",
   "metadata": {
    "slideshow": {
     "slide_type": "subslide"
    }
   },
   "source": [
    "### Проблема задержки\n",
    "\n",
    "В соответствии с CAP-теоремой мы будем иметь задержку появления информации на слейве."
   ]
  },
  {
   "cell_type": "markdown",
   "id": "collectible-plasma",
   "metadata": {
    "slideshow": {
     "slide_type": "fragment"
    }
   },
   "source": [
    "### Толстый клиент\n",
    "\n",
    "Вообще не читаем данные и обновляем с помощью JS."
   ]
  },
  {
   "cell_type": "markdown",
   "id": "powered-bouquet",
   "metadata": {
    "slideshow": {
     "slide_type": "fragment"
    }
   },
   "source": [
    "### Читаем с мастера\n",
    "\n",
    "Делаем отдельный тип запросов. После записи читаем с мастера."
   ]
  },
  {
   "cell_type": "markdown",
   "id": "guilty-thailand",
   "metadata": {
    "slideshow": {
     "slide_type": "slide"
    }
   },
   "source": [
    "## Шардинг\n",
    "\n",
    "*Базовый принцип:* данные, которые в дальнейшем потребуются вместе, так же должны храниться вместе."
   ]
  },
  {
   "cell_type": "markdown",
   "id": "fantastic-retro",
   "metadata": {
    "slideshow": {
     "slide_type": "subslide"
    }
   },
   "source": [
    "### Принцип разделения данных на шарды"
   ]
  },
  {
   "cell_type": "markdown",
   "id": "answering-rolling",
   "metadata": {
    "slideshow": {
     "slide_type": "fragment"
    }
   },
   "source": [
    "### Центральный дистпетчер, знающий, что где лежит\n",
    "\n",
    "\"+\" легко менять;\n",
    "\n",
    "\"-\" сложно;"
   ]
  },
  {
   "cell_type": "markdown",
   "id": "flush-retirement",
   "metadata": {
    "slideshow": {
     "slide_type": "fragment"
    }
   },
   "source": [
    "### Хэш-функция, по ключу вычисляющая шард\n",
    "\n",
    "\n",
    "\"+\" просто;\n",
    "\n",
    "\"-\" сложно менять;"
   ]
  },
  {
   "cell_type": "markdown",
   "id": "endless-lexington",
   "metadata": {
    "slideshow": {
     "slide_type": "subslide"
    }
   },
   "source": [
    "### Виртуальный шардинг\n",
    "\n",
    "![virtual_sharding](img/virtual_sharding.png)"
   ]
  },
  {
   "cell_type": "markdown",
   "id": "functional-update",
   "metadata": {
    "slideshow": {
     "slide_type": "slide"
    }
   },
   "source": [
    "### Партиционирование\n",
    "\n",
    "Разбиение больших таблиц на логические части по выбранным критериям.\n",
    "\n",
    "- Как средствами базы данных.\n",
    "- Так и на уровне приложения."
   ]
  },
  {
   "cell_type": "markdown",
   "id": "textile-vertex",
   "metadata": {
    "slideshow": {
     "slide_type": "slide"
    }
   },
   "source": [
    "### Денормализация\n",
    "\n",
    "В высоконагруженных системах храним данные не как нам удобно хранить, а как нам удобно их отдавать :)"
   ]
  },
  {
   "cell_type": "markdown",
   "id": "happy-anime",
   "metadata": {
    "slideshow": {
     "slide_type": "slide"
    }
   },
   "source": [
    "### Всем спасибо!\n",
    "\n",
    "- https://highload.ru/"
   ]
  }
 ],
 "metadata": {
  "celltoolbar": "Slideshow",
  "kernelspec": {
   "display_name": "Python 3",
   "language": "python",
   "name": "python3"
  },
  "language_info": {
   "codemirror_mode": {
    "name": "ipython",
    "version": 3
   },
   "file_extension": ".py",
   "mimetype": "text/x-python",
   "name": "python",
   "nbconvert_exporter": "python",
   "pygments_lexer": "ipython3",
   "version": "3.9.1"
  }
 },
 "nbformat": 4,
 "nbformat_minor": 5
}
