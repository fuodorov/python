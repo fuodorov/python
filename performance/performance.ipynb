{
 "cells": [
  {
   "cell_type": "markdown",
   "metadata": {},
   "source": [
    "# Faster Python Faster"
   ]
  },
  {
   "cell_type": "markdown",
   "metadata": {},
   "source": [
    "[Vyacheslav Fedorov](http://fuodorov.github.io)"
   ]
  },
  {
   "cell_type": "markdown",
   "metadata": {},
   "source": [
    "## Class `Matrix`"
   ]
  },
  {
   "cell_type": "code",
   "execution_count": 1,
   "metadata": {},
   "outputs": [],
   "source": [
    "import random\n",
    "\n",
    "class Matrix(list):\n",
    "    @classmethod\n",
    "    def zeros(cls, shape):\n",
    "        n_rows, n_cols = shape\n",
    "        return cls([[0] * n_cols for i in range(n_rows)])\n",
    "\n",
    "    @classmethod\n",
    "    def random(cls, shape):\n",
    "        M, (n_rows, n_cols) = cls(), shape\n",
    "        for i in range(n_rows):\n",
    "            M.append([random.randint(-255, 255)\n",
    "                      for j in range(n_cols)])\n",
    "        return M\n",
    "\n",
    "    def transpose(self):\n",
    "        n_rows, n_cols = self.shape\n",
    "        return self.__class__(zip(*self))\n",
    "\n",
    "    @property\n",
    "    def shape(self):\n",
    "        return ((0, 0) if not self else\n",
    "                (len(self), len(self[0])))"
   ]
  },
  {
   "cell_type": "code",
   "execution_count": 2,
   "metadata": {},
   "outputs": [],
   "source": [
    "def matrix_product(X, Y):\n",
    "    \"\"\"Computes the matrix product of X and Y.\n",
    "\n",
    "    >>> X = Matrix([[1], [2], [3]])\n",
    "    >>> Y = Matrix([[4, 5, 6]])\n",
    "    >>> matrix_product(X, Y)\n",
    "    [[4, 5, 6], [8, 10, 12], [12, 15, 18]]\n",
    "    >>> matrix_product(Y, X)\n",
    "    [[32]]\n",
    "    \"\"\"\n",
    "    n_xrows, n_xcols = X.shape\n",
    "    n_yrows, n_ycols = Y.shape\n",
    "    # верим, что с размерностями всё хорошо\n",
    "    Z = Matrix.zeros((n_xrows, n_ycols))\n",
    "    for i in range(n_xrows):\n",
    "        for j in range(n_xcols):\n",
    "            for k in range(n_ycols):\n",
    "                Z[i][k] += X[i][j] * Y[j][k]\n",
    "    return Z"
   ]
  },
  {
   "cell_type": "code",
   "execution_count": 3,
   "metadata": {},
   "outputs": [
    {
     "name": "stdout",
     "output_type": "stream",
     "text": [
      "Exception reporting mode: Plain\n",
      "Doctest mode is: ON\n"
     ]
    }
   ],
   "source": [
    "%doctest_mode"
   ]
  },
  {
   "cell_type": "code",
   "execution_count": 4,
   "metadata": {},
   "outputs": [
    {
     "data": {
      "text/plain": [
       "[[32]]"
      ]
     },
     "execution_count": 4,
     "metadata": {},
     "output_type": "execute_result"
    }
   ],
   "source": [
    ">>> X = Matrix([[1], [2], [3]])\n",
    ">>> Y = Matrix([[4, 5, 6]])\n",
    ">>> matrix_product(X, Y)\n",
    "[[4, 5, 6], [8, 10, 12], [12, 15, 18]]\n",
    ">>> matrix_product(Y, X)\n",
    "\n",
    "[[32]]"
   ]
  },
  {
   "cell_type": "code",
   "execution_count": 5,
   "metadata": {},
   "outputs": [
    {
     "name": "stdout",
     "output_type": "stream",
     "text": [
      "Exception reporting mode: Context\n",
      "Doctest mode is: OFF\n"
     ]
    }
   ],
   "source": [
    "%doctest_mode"
   ]
  },
  {
   "cell_type": "markdown",
   "metadata": {},
   "source": [
    "# Runtime measurement\n",
    "\n",
    "Everything seems to work, but how fast? Use the magic `timeit` command to check."
   ]
  },
  {
   "cell_type": "code",
   "execution_count": 6,
   "metadata": {},
   "outputs": [
    {
     "name": "stdout",
     "output_type": "stream",
     "text": [
      "91.4 ms ± 6.65 ms per loop (mean ± std. dev. of 7 runs, 10 loops each)\n"
     ]
    }
   ],
   "source": [
    "%%timeit shape = 64, 64; X = Matrix.random(shape); Y = Matrix.random(shape)\n",
    "matrix_product(X, Y)"
   ]
  },
  {
   "cell_type": "markdown",
   "metadata": {},
   "source": [
    "Total: Multiplying two 64x64 matrices takes near 0.1 seconds. Y U SO SLOW?\n",
    "\n",
    "We define an auxiliary function `bench`, which generates random matrices of the specified size, and then` n_iter` times multiplies them in a loop."
   ]
  },
  {
   "cell_type": "code",
   "execution_count": 7,
   "metadata": {},
   "outputs": [],
   "source": [
    "def bench(shape=(64, 64), n_iter=16):\n",
    "    X = Matrix.random(shape)\n",
    "    Y = Matrix.random(shape)\n",
    "    for iter in range(n_iter):\n",
    "        matrix_product(X, Y)    "
   ]
  },
  {
   "cell_type": "markdown",
   "metadata": {},
   "source": [
    "Let's try to look at it more closely with the help of the `line_profiler` module."
   ]
  },
  {
   "cell_type": "code",
   "execution_count": 8,
   "metadata": {},
   "outputs": [],
   "source": [
    "#!pip install line_profiler"
   ]
  },
  {
   "cell_type": "code",
   "execution_count": 9,
   "metadata": {},
   "outputs": [],
   "source": [
    "%load_ext line_profiler\n",
    "%lprun -f matrix_product bench()"
   ]
  },
  {
   "cell_type": "markdown",
   "metadata": {},
   "source": [
    "Note that the operation `list .__ getitem__` is not free. Swap the `for` loops so that the code does less index lookups."
   ]
  },
  {
   "cell_type": "code",
   "execution_count": 10,
   "metadata": {},
   "outputs": [],
   "source": [
    "def matrix_product(X, Y):\n",
    "    n_xrows, n_xcols = X.shape\n",
    "    n_yrows, n_ycols = Y.shape\n",
    "    Z = Matrix.zeros((n_xrows, n_ycols))\n",
    "    for i in range(n_xrows):\n",
    "        Xi = X[i]\n",
    "        for k in range(n_ycols):\n",
    "            acc = 0\n",
    "            for j in range(n_xcols):\n",
    "                acc += Xi[j] * Y[j][k]\n",
    "            Z[i][k] = acc\n",
    "    return Z"
   ]
  },
  {
   "cell_type": "code",
   "execution_count": 11,
   "metadata": {},
   "outputs": [],
   "source": [
    "%lprun -f matrix_product bench()"
   ]
  },
  {
   "cell_type": "markdown",
   "metadata": {},
   "source": [
    "2 seconds faster, but still too slow:> 30% of the time goes exclusively to iteration! Fix it."
   ]
  },
  {
   "cell_type": "code",
   "execution_count": 12,
   "metadata": {},
   "outputs": [],
   "source": [
    "def matrix_product(X, Y):\n",
    "    n_xrows, n_xcols = X.shape\n",
    "    n_yrows, n_ycols = Y.shape\n",
    "    Z = Matrix.zeros((n_xrows, n_ycols))\n",
    "    for i in range(n_xrows):\n",
    "        Xi, Zi = X[i], Z[i]\n",
    "        for k in range(n_ycols):\n",
    "            Zi[k] = sum(Xi[j] * Y[j][k] for j in range(n_xcols))\n",
    "    return Z"
   ]
  },
  {
   "cell_type": "code",
   "execution_count": 13,
   "metadata": {},
   "outputs": [],
   "source": [
    "%lprun -f matrix_product bench()"
   ]
  },
  {
   "cell_type": "markdown",
   "metadata": {},
   "source": [
    "The matrix_product functions are pretty prettier. But, it seems, this is not the limit. Let’s try again to remove unnecessary index calls from the innermost cycle."
   ]
  },
  {
   "cell_type": "code",
   "execution_count": 14,
   "metadata": {},
   "outputs": [],
   "source": [
    "def matrix_product(X, Y):\n",
    "    n_xrows, n_xcols = X.shape\n",
    "    n_yrows, n_ycols = Y.shape\n",
    "    Z = Matrix.zeros((n_xrows, n_ycols))\n",
    "    Yt = Y.transpose()  # <--\n",
    "    for i, (Xi, Zi) in enumerate(zip(X, Z)):\n",
    "        for k, Ytk in enumerate(Yt):\n",
    "            Zi[k] = sum(Xi[j] * Ytk[j] for j in range(n_xcols))\n",
    "    return Z"
   ]
  },
  {
   "cell_type": "markdown",
   "metadata": {},
   "source": [
    "# Numba\n",
    "\n",
    "Numba does not work with inline lists. Rewrite the `matrix_product` function using ndarray."
   ]
  },
  {
   "cell_type": "code",
   "execution_count": 15,
   "metadata": {},
   "outputs": [],
   "source": [
    "import numba\n",
    "import numpy as np\n",
    "\n",
    "\n",
    "@numba.jit\n",
    "def jit_matrix_product(X, Y):\n",
    "    n_xrows, n_xcols = X.shape\n",
    "    n_yrows, n_ycols = Y.shape\n",
    "    Z = np.zeros((n_xrows, n_ycols), dtype=X.dtype)\n",
    "    for i in range(n_xrows):\n",
    "        for k in range(n_ycols):\n",
    "            for j in range(n_xcols):\n",
    "                Z[i, k] += X[i, j] * Y[j, k]\n",
    "    return Z"
   ]
  },
  {
   "cell_type": "markdown",
   "metadata": {},
   "source": [
    "Let's see what happened."
   ]
  },
  {
   "cell_type": "code",
   "execution_count": 16,
   "metadata": {},
   "outputs": [
    {
     "name": "stdout",
     "output_type": "stream",
     "text": [
      "The slowest run took 23.69 times longer than the fastest. This could mean that an intermediate result is being cached.\n",
      "549 µs ± 1.02 ms per loop (mean ± std. dev. of 7 runs, 100 loops each)\n"
     ]
    }
   ],
   "source": [
    "shape = 64, 64\n",
    "X = np.random.randint(-255, 255, shape)\n",
    "Y = np.random.randint(-255, 255, shape)\n",
    "\n",
    "%timeit -n100 jit_matrix_product(X, Y)"
   ]
  },
  {
   "cell_type": "markdown",
   "metadata": {},
   "source": [
    "# Cython"
   ]
  },
  {
   "cell_type": "code",
   "execution_count": 17,
   "metadata": {},
   "outputs": [],
   "source": [
    "%load_ext cython"
   ]
  },
  {
   "cell_type": "code",
   "execution_count": 18,
   "metadata": {},
   "outputs": [],
   "source": [
    "%%capture\n",
    "%%cython -a\n",
    "import random\n",
    "\n",
    "class Matrix(list):\n",
    "    @classmethod\n",
    "    def zeros(cls, shape):\n",
    "        n_rows, n_cols = shape\n",
    "        return cls([[0] * n_cols for i in range(n_rows)])\n",
    "\n",
    "    @classmethod\n",
    "    def random(cls, shape):\n",
    "        M, (n_rows, n_cols) = cls(), shape\n",
    "        for i in range(n_rows):\n",
    "            M.append([random.randint(-255, 255)\n",
    "                      for j in range(n_cols)])\n",
    "        return M\n",
    "\n",
    "    def transpose(self):\n",
    "        n_rows, n_cols = self.shape\n",
    "        return self.__class__(zip(*self))\n",
    "\n",
    "    @property\n",
    "    def shape(self):\n",
    "        return ((0, 0) if not self else\n",
    "                (int(len(self)), int(len(self[0]))))\n",
    "\n",
    "    \n",
    "def cy_matrix_product(X, Y):\n",
    "    n_xrows, n_xcols = X.shape\n",
    "    n_yrows, n_ycols = Y.shape\n",
    "    Z = Matrix.zeros((n_xrows, n_ycols))\n",
    "    Yt = Y.transpose()\n",
    "    for i, Xi in enumerate(X):\n",
    "        for k, Ytk in enumerate(Yt):\n",
    "            Z[i][k] = sum(Xi[j] * Ytk[j] for j in range(n_xcols))\n",
    "    return Z"
   ]
  },
  {
   "cell_type": "code",
   "execution_count": 19,
   "metadata": {},
   "outputs": [],
   "source": [
    "X = Matrix.random(shape)\n",
    "Y = Matrix.random(shape)"
   ]
  },
  {
   "cell_type": "code",
   "execution_count": 20,
   "metadata": {},
   "outputs": [
    {
     "name": "stdout",
     "output_type": "stream",
     "text": [
      "20.6 ms ± 187 µs per loop (mean ± std. dev. of 7 runs, 100 loops each)\n"
     ]
    }
   ],
   "source": [
    "%timeit -n100 cy_matrix_product(X, Y)"
   ]
  },
  {
   "cell_type": "markdown",
   "metadata": {},
   "source": [
    "The problem is that Cython cannot efficiently optimize work with lists that can contain elements of various types, so we rewrite `matrix_product` using *ndarray*."
   ]
  },
  {
   "cell_type": "code",
   "execution_count": 21,
   "metadata": {},
   "outputs": [],
   "source": [
    "X = np.random.randint(-255, 255, size=shape)\n",
    "Y = np.random.randint(-255, 255, size=shape)"
   ]
  },
  {
   "cell_type": "code",
   "execution_count": 22,
   "metadata": {},
   "outputs": [],
   "source": [
    "%%capture\n",
    "%%cython -a\n",
    "import numpy as np\n",
    "\n",
    "def cy_matrix_product(X, Y):\n",
    "    n_xrows, n_xcols = X.shape\n",
    "    n_yrows, n_ycols = Y.shape\n",
    "    Z = np.zeros((n_xrows, n_ycols), dtype=X.dtype)\n",
    "    for i in range(n_xrows):\n",
    "        for k in range(n_ycols):\n",
    "            for j in range(n_xcols):\n",
    "                Z[i, k] += X[i, j] * Y[j, k]\n",
    "    return Z"
   ]
  },
  {
   "cell_type": "code",
   "execution_count": 23,
   "metadata": {},
   "outputs": [
    {
     "name": "stdout",
     "output_type": "stream",
     "text": [
      "174 ms ± 1.79 ms per loop (mean ± std. dev. of 7 runs, 100 loops each)\n"
     ]
    }
   ],
   "source": [
    "%timeit -n100 cy_matrix_product(X, Y)"
   ]
  },
  {
   "cell_type": "markdown",
   "metadata": {},
   "source": [
    "How so! It just got worse, with most of the code still using Python calls. Let's get rid of them by annotating the code with types."
   ]
  },
  {
   "cell_type": "code",
   "execution_count": 24,
   "metadata": {},
   "outputs": [],
   "source": [
    "%%capture\n",
    "%%cython -a\n",
    "import numpy as np\n",
    "cimport numpy as np\n",
    "\n",
    "def cy_matrix_product(np.ndarray X, np.ndarray Y):\n",
    "    cdef int n_xrows = X.shape[0]\n",
    "    cdef int n_xcols = X.shape[1]\n",
    "    cdef int n_yrows = Y.shape[0]\n",
    "    cdef int n_ycols = Y.shape[1]\n",
    "    cdef np.ndarray Z\n",
    "    Z = np.zeros((n_xrows, n_ycols), dtype=X.dtype)\n",
    "    for i in range(n_xrows):\n",
    "        for k in range(n_ycols):\n",
    "            for j in range(n_xcols):\n",
    "                Z[i, k] += X[i, j] * Y[j, k]\n",
    "    return Z"
   ]
  },
  {
   "cell_type": "code",
   "execution_count": 25,
   "metadata": {},
   "outputs": [
    {
     "name": "stdout",
     "output_type": "stream",
     "text": [
      "173 ms ± 2.29 ms per loop (mean ± std. dev. of 7 runs, 100 loops each)\n"
     ]
    }
   ],
   "source": [
    "%timeit -n100 cy_matrix_product(X, Y)"
   ]
  },
  {
   "cell_type": "markdown",
   "metadata": {},
   "source": [
    "Unfortunately, typical annotations did not change the run time, because the body of the nested Cython itself could not optimize. Fatality-time: indicate the type of elements in *ndarray*."
   ]
  },
  {
   "cell_type": "code",
   "execution_count": 26,
   "metadata": {},
   "outputs": [],
   "source": [
    "%%capture\n",
    "%%cython -a\n",
    "import numpy as np\n",
    "cimport numpy as np\n",
    "\n",
    "def cy_matrix_product(np.ndarray[np.int64_t, ndim=2] X,\n",
    "                      np.ndarray[np.int64_t, ndim=2] Y):\n",
    "    cdef int n_xrows = X.shape[0]\n",
    "    cdef int n_xcols = X.shape[1]\n",
    "    cdef int n_yrows = Y.shape[0]\n",
    "    cdef int n_ycols = Y.shape[1]\n",
    "    cdef np.ndarray[np.int64_t, ndim=2] Z = \\\n",
    "        np.zeros((n_xrows, n_ycols), dtype=np.int64)\n",
    "    for i in range(n_xrows):\n",
    "        for k in range(n_ycols):\n",
    "            for j in range(n_xcols):\n",
    "                Z[i, k] += X[i, j] * Y[j, k]\n",
    "    return Z"
   ]
  },
  {
   "cell_type": "code",
   "execution_count": 27,
   "metadata": {},
   "outputs": [
    {
     "name": "stdout",
     "output_type": "stream",
     "text": [
      "552 µs ± 3.85 µs per loop (mean ± std. dev. of 7 runs, 100 loops each)\n"
     ]
    }
   ],
   "source": [
    "%timeit -n100 cy_matrix_product(X, Y)"
   ]
  },
  {
   "cell_type": "markdown",
   "metadata": {},
   "source": [
    "Let's try to go further and disable checks for going beyond the boundaries of the array and overflow of integer types."
   ]
  },
  {
   "cell_type": "code",
   "execution_count": 28,
   "metadata": {
    "scrolled": false
   },
   "outputs": [],
   "source": [
    "%%capture\n",
    "%%cython -a\n",
    "import numpy as np\n",
    "\n",
    "cimport cython\n",
    "cimport numpy as np\n",
    "\n",
    "@cython.boundscheck(False)\n",
    "@cython.overflowcheck(False)\n",
    "def cy_matrix_product(np.ndarray[np.int64_t, ndim=2] X, \n",
    "                      np.ndarray[np.int64_t, ndim=2] Y):\n",
    "    cdef int n_xrows = X.shape[0]\n",
    "    cdef int n_xcols = X.shape[1]\n",
    "    cdef int n_yrows = Y.shape[0]\n",
    "    cdef int n_ycols = Y.shape[1]\n",
    "    cdef np.ndarray[np.int64_t, ndim=2] Z = \\\n",
    "        np.zeros((n_xrows, n_ycols), dtype=np.int64)\n",
    "    for i in range(n_xrows):        \n",
    "        for k in range(n_ycols):\n",
    "            for j in range(n_xcols):\n",
    "                Z[i, k] += X[i, j] * Y[j, k]\n",
    "    return Z"
   ]
  },
  {
   "cell_type": "code",
   "execution_count": 29,
   "metadata": {
    "scrolled": true
   },
   "outputs": [
    {
     "name": "stdout",
     "output_type": "stream",
     "text": [
      "234 µs ± 5.22 µs per loop (mean ± std. dev. of 7 runs, 100 loops each)\n"
     ]
    }
   ],
   "source": [
    "%timeit -n100 cy_matrix_product(X, Y)"
   ]
  },
  {
   "cell_type": "markdown",
   "metadata": {},
   "source": [
    "# Numpy"
   ]
  },
  {
   "cell_type": "code",
   "execution_count": 30,
   "metadata": {},
   "outputs": [],
   "source": [
    "import numpy as np\n",
    "\n",
    "X = np.random.randint(-255, 255, shape)\n",
    "Y = np.random.randint(-255, 255, shape)"
   ]
  },
  {
   "cell_type": "code",
   "execution_count": 31,
   "metadata": {},
   "outputs": [
    {
     "name": "stdout",
     "output_type": "stream",
     "text": [
      "155 µs ± 7.06 µs per loop (mean ± std. dev. of 7 runs, 100 loops each)\n"
     ]
    }
   ],
   "source": [
    "%timeit -n100 X.dot(Y)"
   ]
  },
  {
   "cell_type": "markdown",
   "metadata": {},
   "source": [
    "Profit."
   ]
  }
 ],
 "metadata": {
  "kernelspec": {
   "display_name": "Python 3",
   "language": "python",
   "name": "python3"
  },
  "language_info": {
   "codemirror_mode": {
    "name": "ipython",
    "version": 3
   },
   "file_extension": ".py",
   "mimetype": "text/x-python",
   "name": "python",
   "nbconvert_exporter": "python",
   "pygments_lexer": "ipython3",
   "version": "3.7.4"
  }
 },
 "nbformat": 4,
 "nbformat_minor": 1
}
